{
  "nbformat": 4,
  "nbformat_minor": 0,
  "metadata": {
    "accelerator": "TPU",
    "colab": {
      "name": "Copy of mvgruReg_Randomised_crypto.ipynb",
      "provenance": [],
      "collapsed_sections": []
    },
    "kernelspec": {
      "display_name": "Python 3",
      "name": "python3"
    }
  },
  "cells": [
    {
      "cell_type": "markdown",
      "source": [
        \"return_sequences = True\" in properties of first rnn layer."
      ],
      "metadata": {
        "id": "HIOxivvwbeFR"
      }
    },
    {
      "cell_type": "code",
      "metadata": {
        "id": "nR2TWmPRLwQ2"
      },
      "source": [
        "from google.colab import drive\n",
        "drive.mount('/content/drive')"
      ],
      "execution_count": null,
      "outputs": []
    },
    {
      "cell_type": "code",
      "metadata": {
        "id": "Lkoga3ThMWzP"
      },
      "source": [
        "from math import sqrt\n",
        "import numpy\n",
        "from numpy import concatenate\n",
        "from matplotlib import pyplot\n",
        "from pandas import read_csv\n",
        "from pandas import DataFrame\n",
        "from pandas import concat\n",
        "from datetime import datetime\n",
        "import sklearn\n",
        "import random\n",
        "from sklearn.preprocessing import MinMaxScaler\n",
        "from sklearn.preprocessing import LabelEncoder\n",
        "from sklearn.metrics import mean_squared_error\n",
        "from keras.models import Sequential\n",
        "from keras.layers import Dense\n",
        "from keras.layers import LSTM\n",
        "from keras.layers import GRU\n",
        "from keras.layers import BatchNormalization\n",
        "from keras.callbacks import ModelCheckpoint\n",
        "from pandas import read_csv\n",
        "from datetime import datetime\n",
        "from google.colab import files"
      ],
      "execution_count": null,
      "outputs": []
    },
    {
      "cell_type": "code",
      "source": [
        "#load data\n",
        "path=\"/content/drive/MyDrive/ETH-USD1.csv\"\n",
        "def parse(x):\n",
        "\treturn datetime.strptime(x, '%Y-%m-%d')\n",
        "dataset = read_csv(path,  parse_dates = [0] ,  date_parser=parse)\n",
        "dataset.drop('Date', axis=1, inplace=True)\n",
        "# manually specify column names\n",
        "dataset.columns = ['Open', 'High', 'Low', 'Close', 'Adj Close', 'Volume']\n",
        "dataset.index.name = 'date'\n",
        "print(dataset.head(5))\n",
        "# save to file\n",
        "dataset.to_csv('/content/drive/MyDrive/ETH-USD2.csv')"
      ],
      "metadata": {
        "id": "snADN-Gn1czl"
      },
      "execution_count": null,
      "outputs": []
    },
    {
      "cell_type": "code",
      "metadata": {
        "id": "Z6Afi9TKMXKF"
      },
      "source": [
        "path1=\"/content/drive/MyDrive/ETH-USD2.csv\"\n",
        "dataset = read_csv(path1, header=0)\n",
        "values = dataset.values\n",
        "n_values=len(values)\n",
        "print(n_values)\n",
        "# specify columns to plot\n",
        "groups = [0, 1, 2, 3, 4, 5,6]\n",
        "i = 1\n",
        "# plot each column\n",
        "pyplot.figure()\n",
        "for group in groups:\n",
        "\tpyplot.subplot(len(groups), 1, i)\n",
        "\tpyplot.plot(values[:, group])\n",
        "\tpyplot.title(dataset.columns[group], y=0.5, loc='right')\n",
        "\ti += 1\n",
        "pyplot.show()"
      ],
      "execution_count": null,
      "outputs": []
    },
    {
      "cell_type": "code",
      "metadata": {
        "id": "LyUx8IC-hW3o"
      },
      "source": [
        "def series_to_supervised(data, n_in=1, n_out=1, dropnan=True):\n",
        "\tn_vars = 1 if type(data) is list else data.shape[1]\n",
        "\tdf = DataFrame(data)\n",
        "\tcols, names = list(), list()\n",
        "\t# input sequence (t-n, ... t-1)\n",
        "\tfor i in range(n_in, 0, -1):\n",
        "\t\tcols.append(df.shift(i))\n",
        "\t\tnames += [('var%d(t-%d)' % (j+1, i)) for j in range(n_vars)]\n",
        "\t# forecast sequence (t, t+1, ... t+n)\n",
        "\tfor i in range(0, n_out):\n",
        "\t\tcols.append(df.shift(-i))\n",
        "\t\tif i == 0:\n",
        "\t\t\tnames += [('var%d(t)' % (j+1)) for j in range(n_vars)]\n",
        "\t\telse:\n",
        "\t\t\tnames += [('var%d(t+%d)' % (j+1, i)) for j in range(n_vars)]\n",
        "\t# put it all together\n",
        "\tagg = concat(cols, axis=1)\n",
        "\tagg.columns = names\n",
        "\t# drop rows with NaN values\n",
        "\tif dropnan:\n",
        "\t\tagg.dropna(inplace=True)\n",
        "\treturn agg\n",
        "#load dataset\n",
        "dataset = read_csv(path1, header=0)\n",
        "values = dataset.values\n",
        "# integer encode direction\n",
        "encoder = LabelEncoder()\n",
        "values[:,2] = encoder.fit_transform(values[:,2])\n",
        "# ensure all data is float\n",
        "#values = values.astype('float32')\n",
        "# normalize features\n",
        "scaler = MinMaxScaler(feature_range=(0, 1))\n",
        "scaled = scaler.fit_transform(values)\n",
        "# frame as supervised learning\n",
        "reframed = series_to_supervised(scaled, 1, 1)\n",
        "# drop columns we don't want to predict\n",
        "#reframed.drop(reframed.columns[[9,10,11,12,13,14,15]], axis=1, inplace=True)\n",
        "print(reframed.head())"
      ],
      "execution_count": null,
      "outputs": []
    },
    {
      "cell_type": "code",
      "metadata": {
        "id": "_YhB8rWHiYzr"
      },
      "source": [
        "# split into train and test sets\n",
        "values = reframed.values\n",
        "random.shuffle(values)\n",
        "n_train =int(0.9*(n_values)) \n",
        "#sklearn.model_selection.train_test_split(values, train_size=n_train, test_size=16000)\n",
        "train = values[:n_train, :]\n",
        "test = values[n_train:, :]\n",
        "# split into input and outputs\n",
        "train_X, train_y = train[:, (0,1,2,3,4,6)], train[:, 5]\n",
        "test_X, test_y = test[:, (0,1,2,3,4,6)], test[:, 5]\n",
        "# reshape input to be 3D [samples, timesteps, features]\n",
        "train_X = train_X.reshape((train_X.shape[0], 1, train_X.shape[1]))\n",
        "test_X = test_X.reshape((test_X.shape[0], 1, test_X.shape[1]))\n",
        "print(train_X.shape, train_y.shape, test_X.shape, test_y.shape)"
      ],
      "execution_count": null,
      "outputs": []
    },
    {
      "cell_type": "code",
      "metadata": {
        "id": "5aSa3XMzi7-T"
      },
      "source": [
        "# design network\n",
        "model = Sequential()\n",
        "model.add(GRU(100, input_shape=(train_X.shape[1], train_X.shape[2]),return_sequences = True))\n",
        "model.add(GRU(40))\n",
        "model.add(Dense(1))\n",
        "model.add(BatchNormalization())\n",
        "model.compile(loss='mse', optimizer='adam')\n",
        "#checkpoint\n",
        "filepath=\"weights.best.hdf5\"\n",
        "checkpoint = ModelCheckpoint(filepath, monitor='val_accuracy', verbose=1, save_best_only=True, mode='max')\n",
        "callbacks_list = [checkpoint]\n",
        "# fit network\n",
        "history = model.fit(train_X, train_y, epochs=180, batch_size=32, validation_data=(test_X, test_y), verbose=2, shuffle=True)\n",
        "# plot history\n",
        "pyplot.plot(history.history['loss'], label='train')\n",
        "pyplot.plot(history.history['val_loss'], label='test')\n",
        "pyplot.legend()\n",
        "pyplot.show()"
      ],
      "execution_count": null,
      "outputs": []
    },
    {
      "cell_type": "code",
      "metadata": {
        "id": "VQouSXZOjQ1d"
      },
      "source": [
        "# make a prediction\n",
        "yhat = model.predict(test_X)\n",
        "test_X = test_X.reshape((test_X.shape[0], test_X.shape[2]))\n",
        "# invert scaling for forecast\n",
        "inv_yhat = concatenate((yhat, test_X[:, 1:]), axis=1)\n",
        "# inv_yhat = scaler.inverse_transform(inv_yhat)\n",
        "inv_yhat = inv_yhat[:,0]\n",
        "# # invert scaling for actual\n",
        "test_y = test_y.reshape((len(test_y), 1))\n",
        "inv_y = concatenate((test_y, test_X[:, 1:]), axis=1)\n",
        "# inv_y = scaler.inverse_transform(inv_y)\n",
        "inv_y = inv_y[:,0]\n",
        "# # calculate RMSE\n",
        "rmse = sqrt(mean_squared_error(inv_y, inv_yhat))\n",
        "#pyplot.plot(test_y)\n",
        "#pyplot.plot(yhat)\n",
        "pyplot.scatter(numpy.arange(len(test_y)), test_y, marker='*',s=1)\n",
        "pyplot.scatter(numpy.arange(len(test_y)), yhat, marker='.',s=1, color=\"red\")\n",
        "print(yhat)\n",
        "path2=\"/content/drive/MyDrive/output3.csv\"\n",
        "path3=\"/content/drive/MyDrive/y_real.csv\"\n",
        "numpy.savetxt(path2, yhat)\n",
        "numpy.savetxt(path3, test_y)\n",
        "#yhat.to_csv('output2.csv')\n",
        "#yhat.to_csv(brandname + 'yhat.csv', sep='\\t')\n",
        "#files.download(brandname + 'yhat.csv')\n",
        "pyplot.legend()\n",
        "pyplot.show()\n",
        "print('Test RMSE: %.3f' % rmse)\n",
        "\n",
        "#save model\n",
        "model.save(\"ETH_model\")"
      ],
      "execution_count": null,
      "outputs": []
    },
    {
      "cell_type": "code",
      "metadata": {
        "id": "lvaUbzcojBHt"
      },
      "source": [
        "pyplot.scatter(test_y, yhat, color='blue', marker='.', s=10)\n",
        "pyplot.legend()\n",
        "pyplot.show()\n"
      ],
      "execution_count": null,
      "outputs": []
    }
  ]
}